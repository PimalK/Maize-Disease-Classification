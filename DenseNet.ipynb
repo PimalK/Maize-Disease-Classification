{
 "cells": [
  {
   "cell_type": "code",
   "execution_count": null,
   "id": "80cd3e22",
   "metadata": {},
   "outputs": [],
   "source": [
    "import numpy as np\n",
    "import pickle\n",
    "import cv2\n",
    "import tensorflow as tf\n",
    "from os import listdir\n",
    "from sklearn.preprocessing import LabelBinarizer\n",
    "from keras.models import Sequential\n",
    "from tensorflow.keras.layers import BatchNormalization, Conv2D, MaxPooling2D, Activation, Flatten, Dropout, Dense\n",
    "from keras import backend as K\n",
    "from keras.preprocessing.image import ImageDataGenerator\n",
    "from keras.optimizers import Adam\n",
    "from keras.preprocessing import image\n",
    "from keras.preprocessing.image import img_to_array\n",
    "from sklearn.preprocessing import MultiLabelBinarizer\n",
    "from sklearn.model_selection import train_test_split\n",
    "import matplotlib.pyplot as plt\n",
    "import image_preprocessing\n",
    "from keras.applications import DenseNet121\n",
    "\n",
    "import os\n",
    "os.environ['TF_CPP_MIN_LOG_LEVEL'] = '2'"
   ]
  },
  {
   "cell_type": "code",
   "execution_count": null,
   "id": "ad800731",
   "metadata": {},
   "outputs": [],
   "source": [
    "EPOCHS = 50\n",
    "INIT_LR = 1e-3\n",
    "BS = 16\n",
    "default_image_size = tuple((64, 64))\n",
    "image_size = 0\n",
    "width=64\n",
    "height=64\n",
    "depth=3\n",
    "image_size = 0"
   ]
  },
  {
   "cell_type": "code",
   "execution_count": null,
   "id": "e82ba1de",
   "metadata": {},
   "outputs": [],
   "source": [
    "x_train, x_test, y_train, y_test, aug=image_preprocessing.preprocess()"
   ]
  },
  {
   "cell_type": "code",
   "execution_count": 10,
   "id": "dae7f32c",
   "metadata": {},
   "outputs": [],
   "source": [
    "base_model = DenseNet121(\n",
    "    weights='/Users/bhaumikpanchal/Downloads/densenet121_weights_tf_dim_ordering_tf_kernels_notop.h5', \n",
    "    include_top=False, \n",
    "    input_shape=(64, 64, 3))\n",
    "\n",
    "# Build model on top of the base model\n",
    "model = Sequential([\n",
    "    base_model,\n",
    "    Flatten(),\n",
    "    Dense(512, activation='relu'),\n",
    "    Dropout(0.5),\n",
    "    Dense(n_classes, activation='softmax')\n",
    "])"
   ]
  },
  {
   "cell_type": "code",
   "execution_count": 11,
   "id": "933b908b",
   "metadata": {},
   "outputs": [],
   "source": [
    "from keras.layers import Conv2D, MaxPooling2D, Flatten, Dense, Dropout, InputLayer\n",
    "from keras.models import Sequential\n",
    "from keras import optimizers\n",
    "from tensorflow.keras.metrics import Precision, Recall, AUC, TruePositives, TrueNegatives, FalsePositives, FalseNegatives\n",
    "\n",
    "model.compile(loss='categorical_crossentropy',\n",
    "                      optimizer=optimizers.RMSprop(learning_rate=2e-5),\n",
    "                      metrics=['acc', Precision(), Recall(), AUC(), TruePositives(), TrueNegatives(), FalsePositives(), FalseNegatives()])\n"
   ]
  },
  {
   "cell_type": "code",
   "execution_count": null,
   "id": "bd1e5536",
   "metadata": {},
   "outputs": [],
   "source": [
    "import time\n",
    "start_time = time.time()\n",
    "history = model.fit(\n",
    "    aug.flow(x_train, y_train, batch_size=BS),\n",
    "    validation_data=(x_test, y_test),\n",
    "    steps_per_epoch=len(x_train) // BS,\n",
    "    epochs=EPOCHS,\n",
    "    verbose=1\n",
    ")\n",
    "end_time = time.time()\n",
    "training_time = end_time - start_time\n",
    "print(\"Total training time:\", training_time, \"seconds\")"
   ]
  },
  {
   "cell_type": "code",
   "execution_count": null,
   "id": "0a67a559",
   "metadata": {},
   "outputs": [],
   "source": [
    "precision = history.history['precision'][-1]\n",
    "recall = history.history['recall'][-1]\n",
    "f1 = 2 * (precision * recall) / (precision + recall)\n",
    "\n",
    "print(f'Precision: {precision:.4f}')\n",
    "print(f'Recall: {recall:.4f}')\n",
    "print(f'F1 Score: {f1:.4f}')"
   ]
  },
  {
   "cell_type": "code",
   "execution_count": null,
   "id": "322441dc",
   "metadata": {},
   "outputs": [],
   "source": [
    "acc = history.history['acc']\n",
    "val_acc = history.history['val_acc']\n",
    "\n",
    "# Print the final accuracy values\n",
    "print(f'Training Accuracy: {acc[-1]:.4f}')\n",
    "print(f'Validation Accuracy: {val_acc[-1]:.4f}')\n",
    "\n",
    "\n"
   ]
  },
  {
   "cell_type": "code",
   "execution_count": null,
   "id": "136d0a55",
   "metadata": {},
   "outputs": [],
   "source": [
    "# Print additional metrics for training\n",
    "print(f\"Precision: {history.history['precision'][-1]:.4f}\")\n",
    "\n",
    "print(f\"Recall: {history.history['recall'][-1]:.4f}\")\n",
    "print(f\"AUC: {history.history['auc'][-1]:.4f}\")\n",
    "print(f\"True Positives: {history.history['true_positives'][-1]:.4f}\")\n",
    "print(f\"True Negatives: {history.history['true_negatives'][-1]:.4f}\")\n",
    "print(f\"False Positives: {history.history['false_positives'][-1]:.4f}\")\n",
    "print(f\"False Negatives: {history.history['false_negatives'][-1]:.4f}\")"
   ]
  },
  {
   "cell_type": "code",
   "execution_count": null,
   "id": "b3f966f7",
   "metadata": {},
   "outputs": [],
   "source": [
    "test_metrics = model.evaluate(x_test, y_test)\n",
    "\n",
    "# Extract individual metric values\n",
    "test_loss, test_accuracy, precision, recall, auc, true_positives, true_negatives, false_positives, false_negatives = test_metrics\n",
    "\n",
    "# Print the testing accuracy\n",
    "print(f\"Testing Accuracy: {test_accuracy:.4f}\")\n"
   ]
  },
  {
   "cell_type": "code",
   "execution_count": null,
   "id": "c9f69ff8",
   "metadata": {},
   "outputs": [],
   "source": [
    "print(history.history.keys())\n",
    "plt.plot(history.history['acc'])\n",
    "plt.plot(history.history['val_acc'])\n",
    "plt.title('model accuracy')\n",
    "plt.ylabel('accuracy')\n",
    "plt.xlabel('epoch')\n",
    "plt.legend(['train', 'test'], loc='upper left')\n",
    "plt.show()\n",
    "plt.plot(history.history['loss'])\n",
    "plt.plot(history.history['val_loss'])\n",
    "plt.title('model loss')\n",
    "plt.ylabel('loss')\n",
    "plt.xlabel('epoch')\n",
    "plt.legend(['train', 'test'], loc='upper left')\n",
    "plt.show()"
   ]
  },
  {
   "cell_type": "code",
   "execution_count": null,
   "id": "4043a56d",
   "metadata": {},
   "outputs": [],
   "source": [
    "from sklearn.metrics import confusion_matrix\n",
    "import seaborn as sns\n",
    "\n",
    "# Predicting the classes for the test set\n",
    "y_pred = model.predict(x_test)\n",
    "y_pred_classes = np.argmax(y_pred, axis=1)\n",
    "y_true_classes = np.argmax(y_test, axis=1)\n",
    "\n",
    "# Generate confusion matrix\n",
    "conf_matrix = confusion_matrix(y_true_classes, y_pred_classes)\n",
    "\n",
    "# Plot confusion matrix\n",
    "plt.figure(figsize=(8, 6))\n",
    "sns.heatmap(conf_matrix, annot=True, fmt='d', cmap='Blues', xticklabels=label_binarizer.classes_, yticklabels=label_binarizer.classes_)\n",
    "plt.xlabel('Predicted labels')\n",
    "plt.ylabel('True labels')\n",
    "plt.title('Confusion Matrix')\n",
    "plt.show()\n"
   ]
  },
  {
   "cell_type": "code",
   "execution_count": null,
   "id": "080f7bc9",
   "metadata": {},
   "outputs": [],
   "source": [
    "model.save(f'./model/densenet_combined.h5')"
   ]
  }
 ],
 "metadata": {
  "kernelspec": {
   "display_name": "Python 3 (ipykernel)",
   "language": "python",
   "name": "python3"
  },
  "language_info": {
   "codemirror_mode": {
    "name": "ipython",
    "version": 3
   },
   "file_extension": ".py",
   "mimetype": "text/x-python",
   "name": "python",
   "nbconvert_exporter": "python",
   "pygments_lexer": "ipython3",
   "version": "3.9.5"
  }
 },
 "nbformat": 4,
 "nbformat_minor": 5
}
